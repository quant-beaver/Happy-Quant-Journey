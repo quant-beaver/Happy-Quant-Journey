{
 "cells": [
  {
   "cell_type": "code",
   "execution_count": null,
   "metadata": {},
   "outputs": [],
   "source": [
    "hei_list = [1,2,3,4]\n",
    "\n",
    "for hei in hei_list :\n",
    "    print(hei)"
   ]
  },
  {
   "cell_type": "code",
   "execution_count": 2,
   "metadata": {},
   "outputs": [
    {
     "name": "stdout",
     "output_type": "stream",
     "text": [
      "1\n",
      "2\n",
      "3\n",
      "4\n"
     ]
    }
   ],
   "source": [
    "range(1, 100, 1) # 1~99\n",
    "\n",
    "rad_list = range(10, 40, 10) #10,20,30"
   ]
  },
  {
   "cell_type": "code",
   "execution_count": null,
   "metadata": {},
   "outputs": [],
   "source": [
    "# 메세지 저장\n",
    "\n",
    "msg = \"저는 최고입니다.\"\n",
    "\n",
    "for count in range(1,6) :\n",
    "    print(msg)"
   ]
  },
  {
   "cell_type": "code",
   "execution_count": 4,
   "metadata": {},
   "outputs": [
    {
     "name": "stdout",
     "output_type": "stream",
     "text": [
      "10\n",
      "100\n",
      "120\n"
     ]
    }
   ],
   "source": [
    "# 원뿔 계산 프로그램 개선\n",
    "\n",
    "rad_list = range(10, 40, 10)\n"
   ]
  },
  {
   "cell_type": "code",
   "execution_count": null,
   "metadata": {},
   "outputs": [],
   "source": [
    "# 구구단 출력 프로그램 개선\n",
    "\n",
    "print(format(\"구구단표\", \">20s\"))\n",
    "\n",
    "# 표 머리\n",
    "print(\"  |\", end=\"\")\n",
    "for j in range (1, 10):\n",
    "    print(\" \", j, end=\"\")\n",
    "    \n",
    "# 뉴 행\n",
    "print()\n",
    "print(\"-------------------------------\")\n",
    "\n",
    "for n in range (1, 10):\n",
    "    print(n, \"|\" , end=\"\")\n",
    "    for m in range (1, 10):\n",
    "        print(format(n * m, \">3d\"), end=\"\")\n",
    "    print()\n"
   ]
  }
 ],
 "metadata": {
  "kernelspec": {
   "display_name": "Python 3",
   "language": "python",
   "name": "python3"
  },
  "language_info": {
   "codemirror_mode": {
    "name": "ipython",
    "version": 3
   },
   "file_extension": ".py",
   "mimetype": "text/x-python",
   "name": "python",
   "nbconvert_exporter": "python",
   "pygments_lexer": "ipython3",
   "version": "3.11.3"
  },
  "orig_nbformat": 4
 },
 "nbformat": 4,
 "nbformat_minor": 2
}
