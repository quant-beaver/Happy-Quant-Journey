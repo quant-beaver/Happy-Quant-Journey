{
  "nbformat": 4,
  "nbformat_minor": 0,
  "metadata": {
    "colab": {
      "provenance": [],
      "authorship_tag": "ABX9TyM58h5xe78BkQ6GLF2Bg+zN",
      "include_colab_link": true
    },
    "kernelspec": {
      "name": "python3",
      "display_name": "Python 3"
    },
    "language_info": {
      "name": "python"
    }
  },
  "cells": [
    {
      "cell_type": "markdown",
      "metadata": {
        "id": "view-in-github",
        "colab_type": "text"
      },
      "source": [
        "<a href=\"https://colab.research.google.com/github/JayFreemandev/Happy-Quant-Journey/blob/main/5%EA%B0%95_%EC%8B%A4%EC%8A%B5.ipynb\" target=\"_parent\"><img src=\"https://colab.research.google.com/assets/colab-badge.svg\" alt=\"Open In Colab\"/></a>"
      ]
    },
    {
      "cell_type": "code",
      "execution_count": 4,
      "metadata": {
        "colab": {
          "base_uri": "https://localhost:8080/"
        },
        "id": "0PqLXu59hGE_",
        "outputId": "26d86644-190c-42a7-dbab-7a786249f287"
      },
      "outputs": [
        {
          "output_type": "stream",
          "name": "stdout",
          "text": [
            "상자에 사과가 100 개 들어있습니다.\n",
            "상자에사과가100개들어있습니다.\n",
            "상자에 사과가 100 개 들어있습니다."
          ]
        }
      ],
      "source": [
        "number = 100\n",
        "\n",
        "print(\"상자에\", \"사과가\", number, \"개\", \"들어있습니다.\")\n",
        "print(\"상자에\", \"사과가\", number, \"개\", \"들어있습니다.\", sep=\"\")\n",
        "print(\"상자에\", \"사과가\", number, \"개\", \"들어있습니다.\", end=\"\")"
      ]
    }
  ]
}