{
 "cells": [
  {
   "cell_type": "code",
   "execution_count": 13,
   "metadata": {},
   "outputs": [
    {
     "name": "stdout",
     "output_type": "stream",
     "text": [
      "n      n**2      n**3\n",
      "=====================\n",
      "1         1         1\n",
      "3         9        27\n",
      "5        25       125\n",
      "7        49       343\n"
     ]
    }
   ],
   "source": [
    "# 순차 표 프로그램\n",
    "# 표 머리\n",
    "print(\"n\", end=\"\")\n",
    "print(format(\"n**2\", \">10s\"), end=\"\")\n",
    "print(format(\"n**3\", \">10s\"), end=\"\")\n",
    "print()\n",
    "print(\"=====================\")\n",
    "\n",
    "# 표 내용\n",
    "for n in range (1, 8, 2):\n",
    "    print(n, end=\"\")\n",
    "    print(format(n**2, \">10d\"), end=\"\")\n",
    "    print(format(n**3, \">10d\"), end=\"\")\n",
    "    print()"
   ]
  },
  {
   "cell_type": "code",
   "execution_count": 21,
   "metadata": {},
   "outputs": [
    {
     "ename": "TypeError",
     "evalue": "can only concatenate str (not \"int\") to str",
     "output_type": "error",
     "traceback": [
      "\u001b[1;31m---------------------------------------------------------------------------\u001b[0m",
      "\u001b[1;31mTypeError\u001b[0m                                 Traceback (most recent call last)",
      "Cell \u001b[1;32mIn[21], line 3\u001b[0m\n\u001b[0;32m      1\u001b[0m \u001b[39m# 성적 프로그램\u001b[39;00m\n\u001b[0;32m      2\u001b[0m score \u001b[39m=\u001b[39m \u001b[39mint\u001b[39m(\u001b[39minput\u001b[39m(\u001b[39m\"\u001b[39m\u001b[39m\"\u001b[39m))\n\u001b[1;32m----> 3\u001b[0m \u001b[39mprint\u001b[39m(\u001b[39m\"\u001b[39;49m\u001b[39m점수를 입력하세요: \u001b[39;49m\u001b[39m\"\u001b[39;49m\u001b[39m+\u001b[39;49m score)\n\u001b[0;32m      5\u001b[0m \u001b[39mif\u001b[39;00m score \u001b[39m<\u001b[39m \u001b[39m0\u001b[39m:\n\u001b[0;32m      6\u001b[0m     \u001b[39mprint\u001b[39m(\u001b[39m\"\u001b[39m\u001b[39m잘못된 점수입니다.\u001b[39m\u001b[39m\"\u001b[39m)\n",
      "\u001b[1;31mTypeError\u001b[0m: can only concatenate str (not \"int\") to str"
     ]
    }
   ],
   "source": [
    "# 성적 프로그램\n",
    "score = int(input(\"\"))\n",
    "print(score)\n",
    "print(\"점수를 입력하세요: \", score)\n",
    "\n",
    "if score < 0:\n",
    "    print(\"잘못된 점수입니다.\")\n",
    "elif score > 100:\n",
    "    print(\"잘못된 점수입니다.\")\n",
    "elif score >= 90:\n",
    "    print(\"A입니다.\")\n",
    "elif score >= 80:\n",
    "    print(\"B입니다.\")\n",
    "elif score >= 70:\n",
    "    print(\"C입니다.\")\n",
    "elif score >= 60:\n",
    "    print(\"D입니다.\")\n",
    "elif score >= 0:\n",
    "    print(\"F입니다.\")"
   ]
  }
 ],
 "metadata": {
  "kernelspec": {
   "display_name": "Python 3",
   "language": "python",
   "name": "python3"
  },
  "language_info": {
   "codemirror_mode": {
    "name": "ipython",
    "version": 3
   },
   "file_extension": ".py",
   "mimetype": "text/x-python",
   "name": "python",
   "nbconvert_exporter": "python",
   "pygments_lexer": "ipython3",
   "version": "3.11.3"
  },
  "orig_nbformat": 4
 },
 "nbformat": 4,
 "nbformat_minor": 2
}
