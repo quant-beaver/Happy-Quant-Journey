{
  "nbformat": 4,
  "nbformat_minor": 0,
  "metadata": {
    "colab": {
      "provenance": [],
      "toc_visible": true,
      "authorship_tag": "ABX9TyOxDZaVgGwurjGs7917Ovb3",
      "include_colab_link": true
    },
    "kernelspec": {
      "name": "python3",
      "display_name": "Python 3"
    },
    "language_info": {
      "name": "python"
    }
  },
  "cells": [
    {
      "cell_type": "markdown",
      "metadata": {
        "id": "view-in-github",
        "colab_type": "text"
      },
      "source": [
        "<a href=\"https://colab.research.google.com/github/JayFreemandev/Happy-Quant-Journey/blob/main/%EC%82%B0%EC%88%A0_%EC%97%B0%EC%82%B0%EC%9E%90.ipynb\" target=\"_parent\"><img src=\"https://colab.research.google.com/assets/colab-badge.svg\" alt=\"Open In Colab\"/></a>"
      ]
    },
    {
      "cell_type": "code",
      "source": [
        "apple = 2\n",
        "banana = 3\n",
        "cranberry = 1\n",
        "detox = (banana ** 2 - 4 * apple * cranberry) // apple\n",
        "print(detox)"
      ],
      "metadata": {
        "id": "LQ1_CtriT90r",
        "outputId": "80630531-bd5a-4957-b7a8-18f44a18fae3",
        "colab": {
          "base_uri": "https://localhost:8080/"
        }
      },
      "execution_count": 1,
      "outputs": [
        {
          "output_type": "stream",
          "name": "stdout",
          "text": [
            "0\n"
          ]
        }
      ]
    }
  ]
}