{
  "nbformat": 4,
  "nbformat_minor": 0,
  "metadata": {
    "colab": {
      "provenance": [],
      "authorship_tag": "ABX9TyPo9vWjEaraF35oNwrDHTOm",
      "include_colab_link": true
    },
    "kernelspec": {
      "name": "python3",
      "display_name": "Python 3"
    },
    "language_info": {
      "name": "python"
    }
  },
  "cells": [
    {
      "cell_type": "markdown",
      "metadata": {
        "id": "view-in-github",
        "colab_type": "text"
      },
      "source": [
        "<a href=\"https://colab.research.google.com/github/JayFreemandev/Happy-Quant-Journey/blob/main/%EC%9B%90%EB%BF%94%EC%9D%98_%EB%B6%80%ED%94%BC%26%EA%B2%89%EB%84%93%EC%9D%B4_%EA%B3%84%EC%82%B0_%ED%94%84%EB%A1%9C%EA%B7%B8%EB%9E%A8.ipynb\" target=\"_parent\"><img src=\"https://colab.research.google.com/assets/colab-badge.svg\" alt=\"Open In Colab\"/></a>"
      ]
    },
    {
      "cell_type": "code",
      "execution_count": 1,
      "metadata": {
        "colab": {
          "base_uri": "https://localhost:8080/"
        },
        "id": "ZZwEk0fgPE0h",
        "outputId": "8e0b11a0-7bce-40f3-c12e-d5795a6a2c3a"
      },
      "outputs": [
        {
          "output_type": "stream",
          "name": "stdout",
          "text": [
            "12560.0\n",
            "3140.0\n"
          ]
        }
      ],
      "source": [
        "rad = 20\n",
        "height = 30\n",
        "pie = 3.14\n",
        "\n",
        "#부피\n",
        "print(1/3 * pie * rad * rad * height)\n",
        "#겉넓이\n",
        "print(pie * rad * rad + pie* rad * height)"
      ]
    },
    {
      "cell_type": "code",
      "source": [],
      "metadata": {
        "id": "aHgIxFE2RpUY"
      },
      "execution_count": null,
      "outputs": []
    }
  ]
}